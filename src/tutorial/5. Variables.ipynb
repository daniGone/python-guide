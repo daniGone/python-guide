{
 "cells": [
  {
   "cell_type": "markdown",
   "metadata": {},
   "source": [
    "# Variables\n",
    "This tutorial will help you in understanding variables and how to use them in python\n",
    "\n",
    "# What are variables?\n",
    "Do you remember in math when we had a question similar to this:\n",
    "\n",
    "x + 1 = 2\n",
    "\n",
    "so, to find the answer we would move the +1 to the other side making -1, then that would be\n",
    "\n",
    "x = 2-1\n",
    "= x = 1\n",
    "\n",
    "and we would get the value of x. But what is x? X is a variable, it has a value but we dont know it yet, similarly there are also variables in python and in almost every language. But they are a little bit different\n",
    "\n",
    "# Variables in python\n",
    "Some rules that you have to follow before you make variables in python is that:\n",
    "* They dont need to be inside quotes.\n",
    "* They cant be names already taken(ex. print, True, False)\n",
    "* They cannot have spaces(a alternative would be to use _ or - instead of spaces)\n",
    "\n",
    "## Defining a variable in python\n",
    "A varaible is defined in three parts, the first is the name, followed by a space, then, a qual sign or '=', followed by another space, and then the value of the variable.\n",
    "\n",
    "an example:\n"
   ]
  },
  {
   "cell_type": "code",
   "execution_count": null,
   "metadata": {},
   "outputs": [],
   "source": [
    "x = 1"
   ]
  },
  {
   "cell_type": "markdown",
   "metadata": {},
   "source": [
    "What we can also do is just print it"
   ]
  },
  {
   "cell_type": "code",
   "execution_count": null,
   "metadata": {},
   "outputs": [],
   "source": [
    "print(x)"
   ]
  },
  {
   "cell_type": "markdown",
   "metadata": {},
   "source": [
    "Note: We dont need to add quotes because it is not a string."
   ]
  },
  {
   "cell_type": "markdown",
   "metadata": {},
   "source": [
    "## Some more rules\n",
    "Not following these rules wont give your program a error but is a good practice to have\n",
    "* Your variables should be meaningful\n",
    "Dont name variables something like x or i, name them something usefull like for the above example name them something like: ''"
   ]
  }
 ],
 "metadata": {
  "interpreter": {
   "hash": "3ea0398a6d5fd85736094208442f8e344aaeb45681f12986faf494b076245f25"
  },
  "kernelspec": {
   "display_name": "Python 3.10.2 64-bit",
   "language": "python",
   "name": "python3"
  },
  "language_info": {
   "name": "python",
   "version": "3.10.2"
  },
  "orig_nbformat": 4
 },
 "nbformat": 4,
 "nbformat_minor": 2
}
