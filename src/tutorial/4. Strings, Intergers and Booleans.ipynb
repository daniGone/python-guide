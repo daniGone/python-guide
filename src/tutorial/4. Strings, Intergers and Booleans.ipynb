{
 "cells": [
  {
   "cell_type": "markdown",
   "metadata": {},
   "source": [
    "# Strings, intergers and bolleans\n",
    "in this tutorial we will learn about strings and intergers.\n",
    "\n",
    "# What are Strings, intergers and bolleans?\n",
    "What are they? Well first lets talk about strings\n",
    "\n",
    "## Strings\n",
    "Strings are basically characters, like the word 'rickroll', in python, we strings inside of double or single quotes, both works so you can have your preference. Thats why in the third part of this tutorial, I explicitly put single quotes, because that was a string.\n",
    "\n",
    "## Integers\n",
    "Inters are basically numbers, like 123 you notice how I didnt put any type of quotes? Because for intergers we dont put that.\n",
    "\n",
    "### Note\n",
    "can you do something like:\n",
    "\n",
    "```\n",
    "print('123')\n",
    "```\n",
    "\n",
    "Well... you can! and it will print out the input:"
   ]
  },
  {
   "cell_type": "code",
   "execution_count": null,
   "metadata": {},
   "outputs": [],
   "source": [
    "print('123')"
   ]
  },
  {
   "cell_type": "markdown",
   "metadata": {},
   "source": [
    "But I thought you said we dont have to put quotes when typing intergers, well yes, that is true but you see there is a difference between the above code and this: "
   ]
  },
  {
   "cell_type": "code",
   "execution_count": null,
   "metadata": {},
   "outputs": [],
   "source": [
    "print(123)"
   ]
  },
  {
   "cell_type": "markdown",
   "metadata": {},
   "source": [
    "See here, you can see that they look almost the same, and give out the EXACT SAME OUTPUT, but they are different, how? Well that is because in the first code example, the value that is being printed is a string while the second is a number\n",
    "\n",
    "# Booleans\n",
    "Booleans are basically True or False, now... please note that booleans are case sensitive so typing true wont work, also you dont need to have quotes, if you have quotes it will just print the acctuall 'True' and will also be identified as a string."
   ]
  }
 ],
 "metadata": {
  "interpreter": {
   "hash": "3ea0398a6d5fd85736094208442f8e344aaeb45681f12986faf494b076245f25"
  },
  "kernelspec": {
   "display_name": "Python 3.10.2 64-bit",
   "language": "python",
   "name": "python3"
  },
  "language_info": {
   "name": "python",
   "version": "3.10.2"
  },
  "orig_nbformat": 4
 },
 "nbformat": 4,
 "nbformat_minor": 2
}
