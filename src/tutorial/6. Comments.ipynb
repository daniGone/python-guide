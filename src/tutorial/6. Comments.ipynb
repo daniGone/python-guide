{
 "cells": [
  {
   "cell_type": "markdown",
   "metadata": {},
   "source": [
    "# Comments\n",
    "This file will explain to you about how to use comments in python\n",
    "\n",
    "# What are comments\n",
    "Well, they are exactly what it says, comments, they are lines of code that are not executed\n",
    "by the computer.\n",
    "\n",
    "## Their uses\n",
    "* To organize your code\n",
    "* To explain your code(for others to understand or for you)\n",
    "\n",
    "# How to type comments in python\n",
    "## Single-Line comments\n",
    "If you want comments to be only one line, add a # add the start(or anywhere in the line) of the line and then type anything in that line(ofcourse after the hashtag). Something like explaining what will happen in the few below lines of your code or just anything"
   ]
  },
  {
   "cell_type": "code",
   "execution_count": 1,
   "metadata": {},
   "outputs": [],
   "source": [
    "# This code is not executed by python"
   ]
  },
  {
   "cell_type": "code",
   "execution_count": null,
   "metadata": {},
   "outputs": [],
   "source": [
    "# This will print out hello world\n",
    "print('Hello world')"
   ]
  },
  {
   "cell_type": "markdown",
   "metadata": {},
   "source": [
    "## Multi-Line comments\n",
    "Multiline comments start with three single quotes on one line, then on the second line another three single quotes and then in between them you can add multiple lines of comments"
   ]
  },
  {
   "cell_type": "code",
   "execution_count": null,
   "metadata": {},
   "outputs": [],
   "source": [
    "'''\n",
    "This code will declare a variable and then print it\n",
    "'''\n",
    "\n",
    "x = 123\n",
    "print(x)"
   ]
  },
  {
   "cell_type": "markdown",
   "metadata": {},
   "source": [
    "## Some rules\n",
    "Not following these rules wont give your code a error but is a good practice to have\n",
    "* Dont over use comments\n",
    "Only add comments to things that you might think are confusing or might confuse others when reading your code.\n",
    "The above examples are not a good example of using comments\n",
    "* Have a balance\n",
    "You should have a balance of using comments only use comments in something confusing and dont make a goal like something like:\n",
    "\n",
    "noob: 'Every 10 lines I should add atleast one comment'\n",
    "\n",
    "remember: only use comments to explain something usefull."
   ]
  }
 ],
 "metadata": {
  "interpreter": {
   "hash": "3ea0398a6d5fd85736094208442f8e344aaeb45681f12986faf494b076245f25"
  },
  "kernelspec": {
   "display_name": "Python 3.10.2 64-bit",
   "language": "python",
   "name": "python3"
  },
  "language_info": {
   "codemirror_mode": {
    "name": "ipython",
    "version": 3
   },
   "file_extension": ".py",
   "mimetype": "text/x-python",
   "name": "python",
   "nbconvert_exporter": "python",
   "pygments_lexer": "ipython3",
   "version": "3.10.2"
  },
  "orig_nbformat": 4
 },
 "nbformat": 4,
 "nbformat_minor": 2
}
