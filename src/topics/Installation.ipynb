{
 "cells": [
  {
   "cell_type": "markdown",
   "metadata": {},
   "source": [
    "# Install Python\n",
    "This tutorial will teach you on how to install python3.\n",
    "\n",
    "## Checking to see if Python is already installed\n",
    "\n",
    "If your on mac or linux, you probably already have python3 installed. but just to be sure open the terminal and type: \n",
    "\n",
    "```\n",
    "python3 --version\n",
    "```\n",
    "\n",
    "this should give you the output of something like:\n",
    "\n",
    "```\n",
    "Python 3.9.10\n",
    "```\n",
    "\n",
    "If that doesnt happen for you, that means you dont have it installed.\n",
    "\n",
    "## Installing python\n",
    "Ok, so you dont have python installed, no worries, this will tell you how to install python\n",
    "\n",
    "first go to the pythons official website, click [HERE](https://www.python.org/) to go to the official website of python. \n",
    "\n",
    "Then, you need to go to the downloads section and install python, it should automatically tell you which os you have and automatically pick the right version of python(by version I mean the different aspects of your computer like what cpu you have and what is your operating system).\n",
    "\n",
    "Then just run the file downloaded, and there you go! you have python installed.\n",
    "if you want to confirm to to the top first sub-section and see on how to check if python is installed on your computer."
   ]
  }
 ],
 "metadata": {
  "interpreter": {
   "hash": "3ea0398a6d5fd85736094208442f8e344aaeb45681f12986faf494b076245f25"
  },
  "kernelspec": {
   "display_name": "Python 3.10.2 64-bit",
   "language": "python",
   "name": "python3"
  },
  "language_info": {
   "codemirror_mode": {
    "name": "ipython",
    "version": 3
   },
   "file_extension": ".py",
   "mimetype": "text/x-python",
   "name": "python",
   "nbconvert_exporter": "python",
   "pygments_lexer": "ipython3",
   "version": "3.9.10"
  },
  "orig_nbformat": 4
 },
 "nbformat": 4,
 "nbformat_minor": 2
}
