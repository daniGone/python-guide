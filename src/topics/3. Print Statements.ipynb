{
 "cells": [
  {
   "cell_type": "markdown",
   "metadata": {},
   "source": [
    "# Print statements\n",
    "this tutorial will teach you about print statements\n",
    "\n",
    "# What is the function of print statements?\n",
    "\n",
    "print statements are used to print something on a screen.\n",
    "\n",
    "# How do you print statements?\n",
    "\n",
    "It is very simple, the command is:\n",
    "\n",
    "```\n",
    "print('Print something here.')\n",
    "```\n",
    "\n",
    "This should give the output of:"
   ]
  },
  {
   "cell_type": "code",
   "execution_count": null,
   "metadata": {},
   "outputs": [],
   "source": [
    "print('Print something here.')"
   ]
  }
 ],
 "metadata": {
  "interpreter": {
   "hash": "3ea0398a6d5fd85736094208442f8e344aaeb45681f12986faf494b076245f25"
  },
  "kernelspec": {
   "display_name": "Python 3.10.2 64-bit",
   "language": "python",
   "name": "python3"
  },
  "language_info": {
   "codemirror_mode": {
    "name": "ipython",
    "version": 3
   },
   "file_extension": ".py",
   "mimetype": "text/x-python",
   "name": "python",
   "nbconvert_exporter": "python",
   "pygments_lexer": "ipython3",
   "version": "3.10.2"
  },
  "orig_nbformat": 4
 },
 "nbformat": 4,
 "nbformat_minor": 2
}
