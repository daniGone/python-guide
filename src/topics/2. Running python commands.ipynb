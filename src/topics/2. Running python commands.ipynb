{
 "cells": [
  {
   "cell_type": "markdown",
   "metadata": {},
   "source": [
    "# Running Python Commands\n",
    "\n",
    "This tutorial will teach you on how how run python commands.\n",
    "\n",
    "## Running Code from the terminal\n",
    "\n",
    "To do this simply type python or python3 in your terminal, and you should get something like this popup:\n",
    "\n",
    "```\n",
    "Python 3.9.10 (tags/v3.9.10:f2f3f53, Jan 17 2022, 15:14:21) [MSC v.1929 64 bit (AMD64)] on win32\n",
    "Type \"help\", \"copyright\", \"credits\" or \"license\" for more information.\n",
    ">>> \n",
    "```\n",
    "\n",
    "Ok! if that worked for you that means everything is right! If it didnt, well then you have to install python, you can do that by going to the first tutorial.\n",
    "\n",
    "Now, if you dont know any python commands, dont worry just simply type this:\n",
    "\n",
    "```\n",
    "print('Hello World')\n",
    "```\n",
    "\n",
    "This should give you the output of: "
   ]
  },
  {
   "cell_type": "code",
   "execution_count": null,
   "metadata": {},
   "outputs": [],
   "source": [
    "print('Hello World')"
   ]
  },
  {
   "cell_type": "markdown",
   "metadata": {},
   "source": [
    "\n",
    "## Running code using files\n",
    "\n",
    "This is a much better way of running code, and one in which you will use in the real world.\n",
    "to get started, create a file with any name, I am going to call it 'tutorial.py'. And also make sure it ends with the py extention(.py). Now put this code in the file:\n",
    "\n",
    "```\n",
    "print('Hello World')\n",
    "```\n",
    "\n",
    "Ok! Once you have finished that, you can just double click the file and it will run the file in python, but you will notice one thing while running the file, that as you open the terminal it will automatically(well not automatically but quickly) close. This is because python will print out 'Hello World' and that doesnt take that much time so after that it just closes as there are no more things left to to, that is why I recommend you use the terminal, to start open up cmd, it is much more better if you use powershell as it has more features and commands compared to cmd. Once you have chosen the terminal of your choice, get the path of the folder that you are currently in(or where the file is located). If you want to know how to get the path of the folder, simply open the folder/dir where the python file is located in file explorar and then on the left of the quick search bar there is going to be another bar with something like this:\n",
    "\n",
    "```\n",
    "C:/somethingLikeThis\n",
    "```\n",
    "\n",
    "Click on that, and well... that is your file path! Just copy it and then open the terminal and type:\n",
    "\n",
    "```\n",
    "cd {path_to_file}\n",
    "```\n",
    "\n",
    "noe you should be in the same directory as where the file is located, now simply type:\n",
    "\n",
    "```\n",
    "python3 {file_name}\n",
    "```\n",
    "\n",
    "for me:\n",
    "\n",
    "```\n",
    "python3 tutorial.py\n",
    "```\n",
    "\n",
    "And Bam! you should see this code in the terminal:"
   ]
  },
  {
   "cell_type": "code",
   "execution_count": null,
   "metadata": {},
   "outputs": [],
   "source": [
    "print('Hello World')"
   ]
  }
 ],
 "metadata": {
  "interpreter": {
   "hash": "3ea0398a6d5fd85736094208442f8e344aaeb45681f12986faf494b076245f25"
  },
  "kernelspec": {
   "display_name": "Python 3.10.2 64-bit",
   "language": "python",
   "name": "python3"
  },
  "language_info": {
   "codemirror_mode": {
    "name": "ipython",
    "version": 3
   },
   "file_extension": ".py",
   "mimetype": "text/x-python",
   "name": "python",
   "nbconvert_exporter": "python",
   "pygments_lexer": "ipython3",
   "version": "3.10.2"
  },
  "orig_nbformat": 4
 },
 "nbformat": 4,
 "nbformat_minor": 2
}
